{
  "nbformat": 4,
  "nbformat_minor": 0,
  "metadata": {
    "colab": {
      "provenance": [],
      "authorship_tag": "ABX9TyMP+OyYpJCmQJ6UtjhKJMnZ",
      "include_colab_link": true
    },
    "kernelspec": {
      "name": "python3",
      "display_name": "Python 3"
    },
    "language_info": {
      "name": "python"
    }
  },
  "cells": [
    {
      "cell_type": "markdown",
      "metadata": {
        "id": "view-in-github",
        "colab_type": "text"
      },
      "source": [
        "<a href=\"https://colab.research.google.com/github/nathasha-naranpanawa/COMP4702_2024/blob/main/PracW11.ipynb\" target=\"_parent\"><img src=\"https://colab.research.google.com/assets/colab-badge.svg\" alt=\"Open In Colab\"/></a>"
      ]
    },
    {
      "cell_type": "code",
      "execution_count": null,
      "metadata": {
        "id": "Xh4KMLwul0q-"
      },
      "outputs": [],
      "source": [
        "# import libraries\n",
        "import pandas as pd\n",
        "import numpy as np\n",
        "import seaborn as sns\n",
        "import matplotlib.pyplot as plt"
      ]
    },
    {
      "cell_type": "code",
      "source": [
        "# load preferred dataset\n",
        "df = pd.read_csv()"
      ],
      "metadata": {
        "id": "T01yBW6PmVqA"
      },
      "execution_count": null,
      "outputs": []
    },
    {
      "cell_type": "code",
      "source": [
        "from sklearn.model_selection import train_test_split\n",
        "\n",
        "# Shuffle and split the data\n",
        "X_train, X_holdout, y_train, y_holdout = train_test_split()"
      ],
      "metadata": {
        "id": "jgFtuNu3mpZu"
      },
      "execution_count": null,
      "outputs": []
    },
    {
      "cell_type": "markdown",
      "source": [
        "# Q1"
      ],
      "metadata": {
        "id": "7nLZCFz7oJPP"
      }
    },
    {
      "cell_type": "code",
      "source": [
        "from sklearn.svm import SVC\n",
        "from sklearn.metrics import accuracy_score, confusion_matrix\n",
        "\n",
        "# TODO: Train an SVM on the above data using a linear kernel and set parameter C = 1\n",
        "svm = SVC()\n",
        "svm.fit()"
      ],
      "metadata": {
        "id": "fdlT6nw9y_aS"
      },
      "execution_count": null,
      "outputs": []
    },
    {
      "cell_type": "markdown",
      "source": [
        "# Q2"
      ],
      "metadata": {
        "id": "ouWRCnu3orRN"
      }
    },
    {
      "cell_type": "code",
      "source": [
        "# TODO: make predictions on train and hold out sets with trained SVM\n",
        "y_pred_train =\n",
        "y_pred_holdout =\n",
        "\n",
        "# TODO: Record the classification accuracy\n",
        "train_accuracy =\n",
        "holdout_accuracy =\n",
        "print(\"Train accuracy:\", train_accuracy*100.00)\n",
        "print(\"Holdout accuracy:\", holdout_accuracy*100)\n",
        "\n",
        "# TODO: Show confusion matrices\n",
        "train_confusion_matrix =\n",
        "holdout_confusion_matrix =\n",
        "print(\"Train confusion matrix:\")\n",
        "print(train_confusion_matrix)\n",
        "print(\"Holdout confusion matrix:\")\n",
        "print(holdout_confusion_matrix)"
      ],
      "metadata": {
        "id": "71lcUeb7oq41"
      },
      "execution_count": null,
      "outputs": []
    },
    {
      "cell_type": "markdown",
      "source": [
        "# Q3"
      ],
      "metadata": {
        "id": "hBDTsuzMyeVS"
      }
    },
    {
      "cell_type": "code",
      "source": [
        "# Vary the C parameter on a logarithmic scale, and show how it influences the training\n",
        "\n",
        "# TODO: Create a list of C values on logarithmic scale to try\n",
        "C_values =\n",
        "\n",
        "# TODO: Train and evaluate a model for each C value\n",
        "train_accuracy_list = []\n",
        "holdout_accuracy_list = []\n",
        "\n",
        "for C in C_values:\n",
        "  # TODO: train SVM\n",
        "\n",
        "  # TODO: Predict target values\n",
        "\n",
        "  # TODO: Calculate and record accuracy\n",
        "\n",
        "\n",
        "# TODO: Plot the training and testing error as a function of C\n"
      ],
      "metadata": {
        "id": "h6RfSUnco6qS"
      },
      "execution_count": null,
      "outputs": []
    },
    {
      "cell_type": "markdown",
      "source": [
        "# Q4"
      ],
      "metadata": {
        "id": "7ackFO0vyhHQ"
      }
    },
    {
      "cell_type": "code",
      "source": [
        "# Experiment with different kernel functions, for a list  of C values, and show how it influences the training and testing error\n",
        "\n",
        "# TODO: Create a list of kernel functions to try\n",
        "kernel_functions =\n",
        "\n",
        "# TODO: Train and evaluate a model for each kernel function\n",
        "train_accuracy_list = []\n",
        "holdout_accuracy_list = []\n",
        "\n",
        "for kernel in kernel_functions:\n",
        "  for C in C_values:\n",
        "    # TODO: train SVM\n",
        "\n",
        "    # TODO: Predict target values\n",
        "\n",
        "    # TODO: Calculate and record accuracy\n",
        "\n",
        "# TODO: Plot the training and testing error as a function of kernel and C\n",
        "\n"
      ],
      "metadata": {
        "id": "UZdMNZmxu_sV"
      },
      "execution_count": null,
      "outputs": []
    }
  ]
}