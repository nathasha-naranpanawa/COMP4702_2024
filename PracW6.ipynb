{
  "nbformat": 4,
  "nbformat_minor": 0,
  "metadata": {
    "colab": {
      "provenance": [],
      "authorship_tag": "ABX9TyNTbV8OLDujfZI7NK0YS4bc",
      "include_colab_link": true
    },
    "kernelspec": {
      "name": "python3",
      "display_name": "Python 3"
    },
    "language_info": {
      "name": "python"
    }
  },
  "cells": [
    {
      "cell_type": "markdown",
      "metadata": {
        "id": "view-in-github",
        "colab_type": "text"
      },
      "source": [
        "<a href=\"https://colab.research.google.com/github/nathasha-naranpanawa/COMP4702_2024/blob/main/PracW6.ipynb\" target=\"_parent\"><img src=\"https://colab.research.google.com/assets/colab-badge.svg\" alt=\"Open In Colab\"/></a>"
      ]
    },
    {
      "cell_type": "markdown",
      "source": [
        "Dataset Information:\n",
        "https://www.researchgate.net/publication/325117645_A_Comparative_study_of_machine_learning_algorithms_on_thyroid_disease_prediction"
      ],
      "metadata": {
        "id": "NM4UUEITnwpb"
      }
    },
    {
      "cell_type": "code",
      "execution_count": 1,
      "metadata": {
        "id": "woiQr6cFk8qr"
      },
      "outputs": [],
      "source": [
        "import pandas as pd\n",
        "import numpy as np\n",
        "import seaborn as sns\n",
        "import matplotlib.pyplot as plt"
      ]
    },
    {
      "cell_type": "code",
      "source": [
        "# Load dataset\n",
        "train_data = pd.read_csv('ann-train.data', delim_whitespace=True, header=None)\n",
        "test_data = pd.read_csv('ann-test.data', delim_whitespace=True, header=None)\n",
        "\n",
        "#TODO: Split into X and y\n"
      ],
      "metadata": {
        "id": "iXPaD_dllqP5"
      },
      "execution_count": 2,
      "outputs": []
    },
    {
      "cell_type": "markdown",
      "source": [
        "# Q1"
      ],
      "metadata": {
        "id": "ueW4YJzbl0Kx"
      }
    },
    {
      "cell_type": "code",
      "source": [
        "from sklearn.neighbors import KNeighborsClassifier\n",
        "from sklearn.metrics import confusion_matrix, accuracy_score\n",
        "\n",
        "#TODO: Step 1: Train a k-NN model (choose some reasonable value for k)\n",
        "k = 5  # Choose a value for k (e.g., 5)\n",
        "\n",
        "\n",
        "#TODO: Step 2: Make Predictions\n",
        "\n",
        "\n",
        "#TODO: Step 3: Evaluate Model\n",
        "\n",
        "\n",
        "# Step 4: Visualize the confusion matrix as a heatmap\n",
        "from sklearn.metrics import confusion_matrix, ConfusionMatrixDisplay\n",
        "\n",
        "disp = ConfusionMatrixDisplay(confusion_matrix=conf_matrix, display_labels=knn_model.classes_)\n",
        "disp.plot(cmap='Reds')\n",
        "plt.show()\n",
        "\n",
        "print('----------------------------')\n",
        "print(f\"Accuracy: {np.around(accuracy*100, 2)}%\")"
      ],
      "metadata": {
        "colab": {
          "base_uri": "https://localhost:8080/",
          "height": 484
        },
        "id": "oWbYldQplxgJ",
        "outputId": "0f902992-a887-4a86-9f8b-2c0a4daf9965"
      },
      "execution_count": 15,
      "outputs": [
        {
          "output_type": "display_data",
          "data": {
            "text/plain": [
              "<Figure size 640x480 with 2 Axes>"
            ],
            "image/png": "[encoded data removed]"
          },
          "metadata": {}
        },
        {
          "output_type": "stream",
          "name": "stdout",
          "text": [
            "----------------------------\n",
            "Accuracy: 93.67%\n"
          ]
        }
      ]
    },
    {
      "cell_type": "markdown",
      "source": [
        "# Q2"
      ],
      "metadata": {
        "id": "1USKVj7Un1Zd"
      }
    },
    {
      "cell_type": "markdown",
      "source": [
        "(a)"
      ],
      "metadata": {
        "id": "sZASRHT-oi8a"
      }
    },
    {
      "cell_type": "code",
      "source": [
        "#TODO: Convert dataset to perform binary classification\n",
        "\n",
        "\n",
        "#TODO: Split X and y\n"
      ],
      "metadata": {
        "id": "-KoExHjinOT3"
      },
      "execution_count": 16,
      "outputs": []
    },
    {
      "cell_type": "markdown",
      "source": [
        "(b)"
      ],
      "metadata": {
        "id": "D4nbZwQXokD6"
      }
    },
    {
      "cell_type": "code",
      "source": [
        "from sklearn.linear_model import LogisticRegression\n",
        "from sklearn.metrics import accuracy_score\n",
        "\n",
        "#TODO: Train linear regression model\n",
        "\n",
        "#TODO: Make predictions on the test set\n",
        "\n",
        "#TODO: Calculate the confusion matrix"
      ],
      "metadata": {
        "id": "-FKc7a8JoDN7"
      },
      "execution_count": null,
      "outputs": []
    },
    {
      "cell_type": "markdown",
      "source": [
        "(c)\n"
      ],
      "metadata": {
        "id": "fuSG8LgXolOL"
      }
    },
    {
      "cell_type": "code",
      "source": [
        "threshold = 0.15  # Vary the threshold as you want\n",
        "\n",
        "#TODO: Recalculate the confusion matrix\n",
        "#HINT: You can use the probability functions and threshold to obtain the new predictions from the trained model\n"
      ],
      "metadata": {
        "id": "X9jxLRoWomM6"
      },
      "execution_count": null,
      "outputs": []
    },
    {
      "cell_type": "markdown",
      "source": [
        "# Q3"
      ],
      "metadata": {
        "id": "ruMir-napfEI"
      }
    },
    {
      "cell_type": "code",
      "source": [
        "from sklearn.linear_model import LinearRegression, Ridge, Lasso\n",
        "\n",
        "# Load dataset\n",
        "data = pd.read_csv('pokemonregr.csv')\n",
        "\n",
        "#TODO: Clean and Split dataset"
      ],
      "metadata": {
        "id": "gC7fj9gypgaz"
      },
      "execution_count": 17,
      "outputs": []
    },
    {
      "cell_type": "code",
      "source": [
        "# Define a function to use regularization with linear regression model\n",
        "def fit_linear(regularization=None, alpha=1.0):\n",
        "  #TODO: Train a linear regression model according to the specified regularization type\n",
        "\n",
        "  return model\n",
        "\n",
        "# Fit and obtain coefficients when using different regularization techniques with different regularization hyperparameter\n",
        "reg = [None, 'L1', 'L2']\n",
        "\n",
        "for r in reg:\n",
        "  #TODO: train a model for each regularization type\n",
        "  model =\n",
        "  print(f\"Coef when using {r} Regularization: {model.coef_}\")\n",
        "  print(\"------------------\")"
      ],
      "metadata": {
        "colab": {
          "base_uri": "https://localhost:8080/"
        },
        "id": "OiUlj9aBpmcP",
        "outputId": "9cf4e637-88de-43d3-e749-d04d3036f481"
      },
      "execution_count": 19,
      "outputs": [
        {
          "output_type": "stream",
          "name": "stdout",
          "text": [
            "Coef when using None Regularization: [ 3.57073776e-01  5.51563573e-01  5.38438804e+01  1.52883140e-02\n",
            "  1.58541752e-01 -3.94064114e-01]\n",
            "------------------\n",
            "Coef when using L1 Regularization: [ 0.4163529   0.58696296 46.95985986  0.05196743  0.18261935 -0.39013111]\n",
            "------------------\n",
            "Coef when using L2 Regularization: [ 0.4163529   0.58696296 46.95985986  0.05196743  0.18261935 -0.39013111]\n",
            "------------------\n"
          ]
        }
      ]
    },
    {
      "cell_type": "code",
      "source": [],
      "metadata": {
        "id": "xTjsdpAeqPT2"
      },
      "execution_count": null,
      "outputs": []
    }
  ]
}