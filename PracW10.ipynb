{
  "nbformat": 4,
  "nbformat_minor": 0,
  "metadata": {
    "colab": {
      "provenance": [],
      "authorship_tag": "ABX9TyNqMXWTBzM18/cr80SaHv7K",
      "include_colab_link": true
    },
    "kernelspec": {
      "name": "python3",
      "display_name": "Python 3"
    },
    "language_info": {
      "name": "python"
    }
  },
  "cells": [
    {
      "cell_type": "markdown",
      "metadata": {
        "id": "view-in-github",
        "colab_type": "text"
      },
      "source": [
        "<a href=\"https://colab.research.google.com/github/nathasha-naranpanawa/COMP4702_2024/blob/main/PracW10.ipynb\" target=\"_parent\"><img src=\"https://colab.research.google.com/assets/colab-badge.svg\" alt=\"Open In Colab\"/></a>"
      ]
    },
    {
      "cell_type": "code",
      "execution_count": null,
      "metadata": {
        "id": "VYVLx0wJaVnq"
      },
      "outputs": [],
      "source": [
        "# import libraries\n",
        "import pandas as pd\n",
        "import numpy as np\n",
        "import seaborn as sns\n",
        "import matplotlib.pyplot as plt"
      ]
    },
    {
      "cell_type": "code",
      "source": [
        "# Load dataset\n",
        "data = pd.read_csv(\"w3classif.csv\", names=[\"X1\", \"X2\", \"Y\"])"
      ],
      "metadata": {
        "id": "QgtdENT7bD_o"
      },
      "execution_count": null,
      "outputs": []
    },
    {
      "cell_type": "code",
      "source": [
        "from sklearn.model_selection import train_test_split\n",
        "\n",
        "# TODO: Shuffle and split the data\n",
        "X_train, X_holdout, y_train, y_holdout = train_test_split()"
      ],
      "metadata": {
        "id": "igWtur42bLQj"
      },
      "execution_count": null,
      "outputs": []
    },
    {
      "cell_type": "markdown",
      "source": [
        "# Q1"
      ],
      "metadata": {
        "id": "q1WB1Xw9cErZ"
      }
    },
    {
      "cell_type": "markdown",
      "source": [
        "Fit a single Decision Tree classifier to the training data"
      ],
      "metadata": {
        "id": "0hJgm1oWtHcJ"
      }
    },
    {
      "cell_type": "code",
      "source": [
        "from sklearn.tree import DecisionTreeClassifier\n",
        "\n",
        "# TODO: Fit a single Decision Tree classifier to the training data with default parameters\n",
        "tree =\n",
        "\n",
        "# TODO: Predict on training and holdout sets\n",
        "\n",
        "\n",
        "# TODO: Calculate Etrain and Ehold-out\n",
        "\n",
        "\n",
        "# Print the results\n",
        "print(\"Etrain:\", Etrain_tree)\n",
        "print(\"Ehold-out:\", Eholdout_tree)\n"
      ],
      "metadata": {
        "id": "vAqA9Cosbz_w"
      },
      "execution_count": null,
      "outputs": []
    },
    {
      "cell_type": "markdown",
      "source": [
        "# Q2"
      ],
      "metadata": {
        "id": "Kxnls4NJcKir"
      }
    },
    {
      "cell_type": "markdown",
      "source": [
        "Fit a bagging ensemble method to the same training data using the Random Forest algorithm"
      ],
      "metadata": {
        "id": "ktBpxP4WtDn0"
      }
    },
    {
      "cell_type": "code",
      "source": [
        "from sklearn.ensemble import RandomForestClassifier\n",
        "\n",
        "# TODO: Fit a Random Forest ensemble with 100 trees\n",
        "forest =\n",
        "\n",
        "# TODO: Predict on training and holdout sets\n",
        "\n",
        "\n",
        "# TODO: Calculate Etrain and Ehold-out\n",
        "\n",
        "\n",
        "# Print the results\n",
        "print(\"Etrain:\", Etrain_forest)\n",
        "print(\"Ehold-out:\", Eholdout_forest)"
      ],
      "metadata": {
        "id": "2z6KDoZMb_nk"
      },
      "execution_count": null,
      "outputs": []
    },
    {
      "cell_type": "markdown",
      "source": [
        "# Q3"
      ],
      "metadata": {
        "id": "mEYYLQf_jzdY"
      }
    },
    {
      "cell_type": "markdown",
      "source": [
        "Repeat DecisionTreeClassifier for different depths and plot the train errors"
      ],
      "metadata": {
        "id": "fhC2OV6-tR1d"
      }
    },
    {
      "cell_type": "code",
      "source": [
        "depths = np.arange(1, 20)\n",
        "Etrain_tree_depths = []\n",
        "Eholdout_tree_depths = []\n",
        "\n",
        "# TODO: train a DecisionTreeClassifier with different depths and record the errors\n",
        "for depth in depths:\n",
        "  # TODO: Fit the model\n",
        "\n",
        "  # TODO: Predict on training and holdout sets\n",
        "\n",
        "  # TODO: Calculate Etrain and Ehold-out\n",
        "\n",
        "plt.plot(depths, Etrain_tree_depths, label=\"Etrain\")\n",
        "plt.xlabel(\"Tree Depth\")\n",
        "plt.ylabel(\"Error\")\n",
        "plt.legend()\n",
        "plt.show()\n"
      ],
      "metadata": {
        "colab": {
          "base_uri": "https://localhost:8080/",
          "height": 449
        },
        "id": "6QKWKtYPjy8V",
        "outputId": "5748c945-da7e-49bf-8f80-ed84e41b3e6d"
      },
      "execution_count": null,
      "outputs": [
        {
          "output_type": "display_data",
          "data": {
            "text/plain": [
              "<Figure size 640x480 with 1 Axes>"
            ],
            "image/png": "[encoded data removed]"
          },
          "metadata": {}
        }
      ]
    },
    {
      "cell_type": "markdown",
      "source": [
        "Repeat RandomForestClassifier for different ensemble sizes and plot the train error"
      ],
      "metadata": {
        "id": "8AaAc1Z6trtW"
      }
    },
    {
      "cell_type": "code",
      "source": [
        "ensemble_sizes = np.arange(1, 101)\n",
        "Etrain_forest_sizes = []\n",
        "Eholdout_forest_sizes = []\n",
        "\n",
        "# TODO: train a RandomForestClassifier with different estimator sizes and record the errors\n",
        "for size in ensemble_sizes:\n",
        "  # TODO: Fit the model\n",
        "\n",
        "  # TODO: Predict on training and holdout sets\n",
        "\n",
        "  # TODO: Calculate Etrain and Ehold-out\n",
        "\n",
        "plt.plot(ensemble_sizes, Etrain_forest_sizes, label=\"Etrain\")\n",
        "plt.xlabel(\"Ensemble Size\")\n",
        "plt.ylabel(\"Error\")\n",
        "plt.legend()\n",
        "plt.show()\n"
      ],
      "metadata": {
        "colab": {
          "base_uri": "https://localhost:8080/",
          "height": 449
        },
        "id": "dwHoCLV7kUd7",
        "outputId": "117624a8-58d5-42c3-9d3a-e5b51c78c9db"
      },
      "execution_count": null,
      "outputs": [
        {
          "output_type": "display_data",
          "data": {
            "text/plain": [
              "<Figure size 640x480 with 1 Axes>"
            ],
            "image/png": "[encoded data removed]"
          },
          "metadata": {}
        }
      ]
    },
    {
      "cell_type": "markdown",
      "source": [
        "# Q4"
      ],
      "metadata": {
        "id": "t0DlW7uFrmAb"
      }
    },
    {
      "cell_type": "markdown",
      "source": [
        "Generate a much larger version of the dataset as data: for each input variable, half of the input data points (for class 0) are drawn from a Normal distribution with mean = 0 and standard deviation = 1, the other half (for class 1) from a Normal distribution with mean = 3 and standard deviation = 1.5."
      ],
      "metadata": {
        "id": "IPjWwNMTt3Sl"
      }
    },
    {
      "cell_type": "code",
      "source": [
        "N = 5000 # size of the dataset\n",
        "\n",
        "# TODO: Generate a much larger version of the dataset with specified means and variances from a normal distribution\n",
        "\n",
        "# TODO: Combine the data into a single DataFrame\n",
        "\n",
        "# TODO: Shuffle the dataset\n"
      ],
      "metadata": {
        "id": "r4HPtzZEcpaU"
      },
      "execution_count": null,
      "outputs": []
    },
    {
      "cell_type": "markdown",
      "source": [
        "Split your large dataset into (e.g 10) equal parts. Consider each part as your holdout set and remaining 9 parts as your training set, and fit a decision tree model. Calculate the variance for each model, and for the final model."
      ],
      "metadata": {
        "id": "eGLJR4tFuON-"
      }
    },
    {
      "cell_type": "code",
      "source": [
        "num_parts = 10\n",
        "# TODO: Split the data into 10 equal parts\n",
        "\n",
        "\n",
        "# Initialize lists to store errors\n",
        "Etrain_tree_parts = []\n",
        "Eholdout_tree_parts = []\n",
        "\n",
        "# Loop through each part as the holdout set\n",
        "for i in range(num_parts):\n",
        "  # TODO: Extract the ith part as the holdout set\n",
        "\n",
        "\n",
        "  # TODO: Combine the remaining parts as the training set\n",
        "\n",
        "\n",
        "  # TODO: Fit a decision tree on the training set\n",
        "\n",
        "\n",
        "  # TODO: Predict on the training and holdout sets\n",
        "\n",
        "\n",
        "  # TODO: Calculate Etrain and Eholdout\n",
        "\n",
        "\n",
        "# TODO: Calculate the final variance of the error\n",
        "\n",
        "\n",
        "# Print the result\n",
        "print(\"Final mean of the train error:\", Etrain_tree_mean)\n",
        "print(\"Final mean of the holdout error:\", Eholdout_tree_mean)\n"
      ],
      "metadata": {
        "id": "YvQwaMrenM3U"
      },
      "execution_count": null,
      "outputs": []
    },
    {
      "cell_type": "markdown",
      "source": [
        "Repeat the above with a Random Forest Classifier"
      ],
      "metadata": {
        "id": "r1rXlhlR0bk1"
      }
    },
    {
      "cell_type": "code",
      "source": [
        "# TODO: Shuffle the large dataset again\n",
        "\n",
        "# TODO: Split the data into 10 equal parts\n",
        "\n",
        "\n",
        "# Initialize lists to store errors\n",
        "Etrain_forest_parts = []\n",
        "Eholdout_forest_parts = []\n",
        "\n",
        "# Loop through each part as the holdout set\n",
        "for i in range(num_parts):\n",
        "  # TODO: Extract the ith part as the holdout set\n",
        "\n",
        "\n",
        "  # TODO: Combine the remaining parts as the training set\n",
        "\n",
        "\n",
        "  # TODO: Fit a random forest classifier on the training set\n",
        "\n",
        "\n",
        "  # TODO: Predict on the training and holdout sets\n",
        "\n",
        "\n",
        "  # TODO: Calculate Etrain and Eholdout\n",
        "\n",
        "\n",
        "# TODO: Calculate the final variance of the error\n",
        "\n",
        "# Print the result\n",
        "print(\"Final mean of the train error:\", Etrain_forest_mean)\n",
        "print(\"Final mean of the holdout error:\", Eholdout_forest_mean)\n"
      ],
      "metadata": {
        "id": "FCPbrYHHiuOW"
      },
      "execution_count": null,
      "outputs": []
    },
    {
      "cell_type": "markdown",
      "source": [
        "# Q5"
      ],
      "metadata": {
        "id": "zRrO05JNrq-3"
      }
    },
    {
      "cell_type": "markdown",
      "source": [
        "Fit a boosting ensemble method to the initial training data using the AdaBoost algorithm. Calculate Etrain and Ehold-out for the ensemble."
      ],
      "metadata": {
        "id": "TlElwZQ60qIF"
      }
    },
    {
      "cell_type": "code",
      "source": [
        "from sklearn.ensemble import AdaBoostClassifier\n",
        "\n",
        "# TODO: Fit an AdaBoost ensemble with 100 trees\n",
        "boost =\n",
        "\n",
        "# TODO: Predict on training and holdout sets\n",
        "\n",
        "\n",
        "# TODO: Calculate Etrain and Ehold-out\n",
        "\n",
        "\n",
        "# Print the results\n",
        "print(\"Etrain:\", Etrain_boost)\n",
        "print(\"Ehold-out:\", Eholdout_boost)\n"
      ],
      "metadata": {
        "id": "Ly8ex2DSqd-J"
      },
      "execution_count": null,
      "outputs": []
    },
    {
      "cell_type": "code",
      "source": [],
      "metadata": {
        "id": "G5CBH_Dsr0G4"
      },
      "execution_count": null,
      "outputs": []
    }
  ]
}